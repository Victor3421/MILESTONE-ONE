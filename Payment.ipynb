{
 "cells": [
  {
   "cell_type": "code",
   "execution_count": 1,
   "id": "d5c10f6a-faa7-4359-b542-271465fecc04",
   "metadata": {},
   "outputs": [],
   "source": [
    "class Payment:\n",
    "    def __init__(self, id, policyholder_id, amount, date):\n",
    "        self.id = id\n",
    "        self.policyholder_id = policyholder_id\n",
    "        self.amount = amount\n",
    "        self.date = date\n",
    "\n",
    "    def process(self):\n",
    "        print(f\"Processing payment of {self.amount} for policyholder {self.policyholder_id}.\")\n",
    "\n",
    "    def send_reminder(self):\n",
    "        print(f\"Sending payment reminder for policyholder {self.policyholder_id}.\")\n",
    "\n",
    "    def apply_penalty(self, penalty_amount):\n",
    "        self.amount += penalty_amount\n",
    "        print(f\"Penalty of {penalty_amount} applied. New amount is {self.amount}.\")"
   ]
  }
 ],
 "metadata": {
  "kernelspec": {
   "display_name": "Python 3 (ipykernel)",
   "language": "python",
   "name": "python3"
  },
  "language_info": {
   "codemirror_mode": {
    "name": "ipython",
    "version": 3
   },
   "file_extension": ".py",
   "mimetype": "text/x-python",
   "name": "python",
   "nbconvert_exporter": "python",
   "pygments_lexer": "ipython3",
   "version": "3.11.7"
  }
 },
 "nbformat": 4,
 "nbformat_minor": 5
}
