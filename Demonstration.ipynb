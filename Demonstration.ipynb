{
 "cells": [
  {
   "cell_type": "code",
   "execution_count": 16,
   "id": "9455eed3-be70-4a78-8d51-7327c3591dd2",
   "metadata": {},
   "outputs": [
    {
     "ename": "SyntaxError",
     "evalue": "invalid syntax (2776197555.py, line 2)",
     "output_type": "error",
     "traceback": [
      "\u001b[1;36m  Cell \u001b[1;32mIn[16], line 2\u001b[1;36m\u001b[0m\n\u001b[1;33m    from http://localhost:8888/notebooks/PolicyHolder.ipynb import Policyholder\u001b[0m\n\u001b[1;37m             ^\u001b[0m\n\u001b[1;31mSyntaxError\u001b[0m\u001b[1;31m:\u001b[0m invalid syntax\n"
     ]
    }
   ],
   "source": [
    "import logging\n",
    "from  import Policyholder\n",
    "# Configure logging\n",
    "logging.basicConfig(level=logging.INFO, format='%(asctime)s - %(levelname)s - %(message)s')\n",
    "\n",
    "def main():\n",
    "    try:\n",
    "        # Create products\n",
    "        product1 = Product(1, \"Health Insurance\", 500)\n",
    "        product2 = Product(2, \"Life Insurance\", 1000)\n",
    "        logging.info(\"Products created successfully\")\n",
    "\n",
    "        # Create policyholders\n",
    "        policyholder1 = Policyholder(1, \"John Doe\", \"john@example.com\")\n",
    "        policyholder2 = Policyholder(2, \"Jane Smith\", \"jane@example.com\")\n",
    "        logging.info(\"Policyholders created successfully\")\n",
    "\n",
    "        # Register products to policyholders\n",
    "        policyholder1.register_product(product1)\n",
    "        policyholder2.register_product(product2)\n",
    "        logging.info(\"Products registered to policyholders successfully\")\n",
    "\n",
    "        # Create and add payments\n",
    "        payment1 = Payment(1, 1, 500, \"2023-07-01\")\n",
    "        payment2 = Payment(2, 2, 1000, \"2023-07-01\")\n",
    "\n",
    "        policyholder1.add_payment(payment1)\n",
    "        policyholder2.add_payment(payment2)\n",
    "        logging.info(\"Payments added to policyholders successfully\")\n",
    "\n",
    "        # Display account details\n",
    "        policyholder1.display_account_details()\n",
    "        policyholder2.display_account_details()\n",
    "    except Exception as e:\n",
    "        logging.error(f\"An error occurred: {e}\")\n",
    "\n",
    "if __name__ == \"__main__\":\n",
    "    main()\n"
   ]
  }
 ],
 "metadata": {
  "kernelspec": {
   "display_name": "Python 3 (ipykernel)",
   "language": "python",
   "name": "python3"
  },
  "language_info": {
   "codemirror_mode": {
    "name": "ipython",
    "version": 3
   },
   "file_extension": ".py",
   "mimetype": "text/x-python",
   "name": "python",
   "nbconvert_exporter": "python",
   "pygments_lexer": "ipython3",
   "version": "3.11.7"
  }
 },
 "nbformat": 4,
 "nbformat_minor": 5
}
