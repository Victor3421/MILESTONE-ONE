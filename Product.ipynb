{
 "cells": [
  {
   "cell_type": "code",
   "execution_count": 2,
   "id": "67892edf-79cf-480c-9874-2736a7c547c4",
   "metadata": {},
   "outputs": [],
   "source": [
    "class Product:\n",
    "    def __init__(self, id, name, premium):\n",
    "        self.id = id\n",
    "        self.name = name\n",
    "        self.premium = premium\n",
    "        self.is_active = True\n",
    "\n",
    "    def update(self, name=None, premium=None):\n",
    "        if name:\n",
    "            self.name = name\n",
    "        if premium:\n",
    "            self.premium = premium\n",
    "        print(f\"Product {self.id} updated.\")\n",
    "\n",
    "    def suspend(self):\n",
    "        self.is_active = False\n",
    "        print(f\"Product {self.name} has been suspended.\")\n",
    "\n",
    "    def reactivate(self):\n",
    "        self.is_active = True\n",
    "        print(f\"Product {self.name} has been reactivated.\")"
   ]
  }
 ],
 "metadata": {
  "kernelspec": {
   "display_name": "Python 3 (ipykernel)",
   "language": "python",
   "name": "python3"
  },
  "language_info": {
   "codemirror_mode": {
    "name": "ipython",
    "version": 3
   },
   "file_extension": ".py",
   "mimetype": "text/x-python",
   "name": "python",
   "nbconvert_exporter": "python",
   "pygments_lexer": "ipython3",
   "version": "3.11.7"
  }
 },
 "nbformat": 4,
 "nbformat_minor": 5
}
