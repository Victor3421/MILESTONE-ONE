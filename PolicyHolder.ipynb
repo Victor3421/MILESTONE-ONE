{
 "cells": [
  {
   "cell_type": "code",
   "execution_count": 22,
   "id": "bbb0cf72-1470-4160-b76c-bdaf38132a17",
   "metadata": {},
   "outputs": [],
   "source": [
    "class Policyholder:\n",
    "    def __init__(self, id, name, email):\n",
    "        self.id = id\n",
    "        self.name = name\n",
    "        self.email = email\n",
    "        self.is_active = True\n",
    "        self.products = []\n",
    "        self.payments = []\n",
    "\n",
    "    def register_product(self, product):\n",
    "        if self.is_active:\n",
    "            self.products.append(product)\n",
    "            print(f\"Product {product.name} registered for {self.name}.\")\n",
    "        else:\n",
    "            print(f\"Cannot register product for suspended policyholder {self.name}.\")\n",
    "\n",
    "    def suspend(self):\n",
    "        self.is_active = False\n",
    "        print(f\"Policyholder {self.name} has been suspended.\")\n",
    "\n",
    "    def reactivate(self):\n",
    "        self.is_active = True\n",
    "        print(f\"Policyholder {self.name} has been reactivated.\")\n",
    "\n",
    "    def add_payment(self, payment):\n",
    "        self.payments.append(payment)\n",
    "        print(f\"Payment of {payment.amount} added for {self.name}.\")\n",
    "\n",
    "    def display_account_details(self):\n",
    "        print(f\"Policyholder: {self.name}\")\n",
    "        print(f\"Email: {self.email}\")\n",
    "        print(f\"Active: {self.is_active}\")\n",
    "        print(\"Products: \", [product.name for product in self.products])\n",
    "        print(\"Payments: \", [payment.amount for payment in self.payments])\n"
   ]
  },
  {
   "cell_type": "code",
   "execution_count": null,
   "id": "4d8ce612-184a-4ef8-8f06-9008c0258b13",
   "metadata": {},
   "outputs": [],
   "source": []
  }
 ],
 "metadata": {
  "kernelspec": {
   "display_name": "Python 3 (ipykernel)",
   "language": "python",
   "name": "python3"
  },
  "language_info": {
   "codemirror_mode": {
    "name": "ipython",
    "version": 3
   },
   "file_extension": ".py",
   "mimetype": "text/x-python",
   "name": "python",
   "nbconvert_exporter": "python",
   "pygments_lexer": "ipython3",
   "version": "3.11.7"
  }
 },
 "nbformat": 4,
 "nbformat_minor": 5
}
